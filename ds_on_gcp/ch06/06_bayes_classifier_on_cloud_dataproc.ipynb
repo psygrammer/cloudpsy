{
 "cells": [
  {
   "cell_type": "markdown",
   "metadata": {},
   "source": [
    "# Chapter 6. Bayes Classifier on Cloud Dataproc"
   ]
  },
  {
   "cell_type": "markdown",
   "metadata": {},
   "source": [
    "* 싸이그래머 / DeepCity & CloudΨ - DS on GCP [1]\n",
    "* 김무성"
   ]
  },
  {
   "cell_type": "markdown",
   "metadata": {},
   "source": [
    "# 차례 \n",
    "* 준비단계    \n",
    "* MapReduce and the Hadoop Ecosystem\n",
    "    - How MapReduce Works\n",
    "    - Apache Hadoop\n",
    "    - Google Cloud Dataproc\n",
    "    - Need for Higher-Level Tools\n",
    "    - Jobs, Not Clusters\n",
    "    - Initialization Actions\n",
    "* Quantization Using Spark SQL\n",
    "    - Google Cloud Datalab on Cloud Dataproc\n",
    "    - Independence Check Using BigQuery\n",
    "    - Spark SQL in Google Cloud Datalab\n",
    "    - Histogram Equalization\n",
    "    - Dynamically Resizing Clusters\n",
    "* Bayes Classification Using Pig\n",
    "    - Running a Pig Job on Cloud Dataproc\n",
    "    - Limiting to Training Days\n",
    "    - The Decision Criteria\n",
    "    - Evaluating the Bayesian Model\n",
    "* Summary"
   ]
  },
  {
   "cell_type": "markdown",
   "metadata": {},
   "source": [
    "----------------------------"
   ]
  },
  {
   "cell_type": "markdown",
   "metadata": {},
   "source": [
    "#### 참고 \n",
    "* Getting started with Google Cloud Training Material - 2018 - https://www.slideshare.net/jkbaseer/getting-started-with-google-cloud-training-material-2018\n",
    "\n"
   ]
  },
  {
   "cell_type": "markdown",
   "metadata": {},
   "source": [
    "---------------------"
   ]
  },
  {
   "cell_type": "markdown",
   "metadata": {},
   "source": [
    "# 준비단계"
   ]
  },
  {
   "cell_type": "markdown",
   "metadata": {},
   "source": [
    "Google Cloud Shell로 이동 \n",
    "* https://console.cloud.google.com/\n",
    "\n"
   ]
  },
  {
   "cell_type": "markdown",
   "metadata": {},
   "source": [
    "--------------------"
   ]
  },
  {
   "cell_type": "markdown",
   "metadata": {},
   "source": [
    "# 실습 1. Load the CSV files created in Chapter 3 into BigQuery"
   ]
  },
  {
   "cell_type": "markdown",
   "metadata": {},
   "source": [
    "### BigQuery Basic\n",
    "\n",
    "1. Setup:\n",
    "   * https://github.com/GoogleCloudPlatform/data-science-on-gcp/tree/master/05_bqdatalab\n",
    "   <br><br>\n",
    "   \n",
    "2. Open CloudShell and navigate to 05_bqdatalab\n",
    "    \n",
    "3. Run the script to load data into BigQuery:\n",
    "\t```shell\n",
    "\tbash load_into_bq.sh <BUCKET-NAME>\n",
    "\t```\n",
    "    <br><br>\n",
    "    \n",
    "4. Visit the BigQuery console to query the new table:\n",
    "\t```shell\n",
    "\tSELECT\n",
    "       *\n",
    "    FROM (\n",
    "       SELECT\n",
    "         ORIGIN,\n",
    "         AVG(DEP_DELAY) AS dep_delay,\n",
    "         AVG(ARR_DELAY) AS arr_delay,\n",
    "         COUNT(ARR_DELAY) AS num_flights\n",
    "       FROM\n",
    "         flights.tzcorr\n",
    "       GROUP BY\n",
    "         ORIGIN )\n",
    "    WHERE\n",
    "       num_flights > 3650\n",
    "    ORDER BY\n",
    "       dep_delay DESC\n",
    "\t```\n",
    "    <br><br>"
   ]
  },
  {
   "cell_type": "markdown",
   "metadata": {},
   "source": [
    "-----------------------------------"
   ]
  },
  {
   "cell_type": "markdown",
   "metadata": {},
   "source": [
    "# MapReduce and the Hadoop Ecosystem\n",
    "* How MapReduce Works\n",
    "* Apache Hadoop\n",
    "* Google Cloud Dataproc\n",
    "* Need for Higher-Level Tools\n",
    "* Jobs, Not Clusters\n",
    "* Initialization Actions"
   ]
  },
  {
   "cell_type": "markdown",
   "metadata": {},
   "source": [
    "## How MapReduce Works"
   ]
  },
  {
   "cell_type": "markdown",
   "metadata": {},
   "source": [
    "## Apache Hadoop"
   ]
  },
  {
   "cell_type": "markdown",
   "metadata": {},
   "source": [
    "## Google Cloud Dataproc"
   ]
  },
  {
   "cell_type": "markdown",
   "metadata": {},
   "source": [
    "## Need for Higher-Level Tools"
   ]
  },
  {
   "cell_type": "markdown",
   "metadata": {},
   "source": [
    "## Jobs, Not Clusters"
   ]
  },
  {
   "cell_type": "markdown",
   "metadata": {},
   "source": [
    "# Quantization Using Spark SQL\n",
    "* Google Cloud Datalab on Cloud Dataproc\n",
    "* Independence Check Using BigQuery\n",
    "* Spark SQL in Google Cloud Datalab\n",
    "* Histogram Equalization\n",
    "* Dynamically Resizing Clusters"
   ]
  },
  {
   "cell_type": "markdown",
   "metadata": {},
   "source": [
    "## Google Cloud Datalab on Cloud Dataproc"
   ]
  },
  {
   "cell_type": "markdown",
   "metadata": {},
   "source": [
    "## Independence Check Using BigQuery"
   ]
  },
  {
   "cell_type": "markdown",
   "metadata": {},
   "source": [
    "## Spark SQL in Google Cloud Datalab"
   ]
  },
  {
   "cell_type": "markdown",
   "metadata": {},
   "source": [
    "## Histogram Equalization"
   ]
  },
  {
   "cell_type": "markdown",
   "metadata": {},
   "source": [
    "## Dynamically Resizing Clusters"
   ]
  },
  {
   "cell_type": "markdown",
   "metadata": {},
   "source": [
    "# Bayes Classification Using Pig\n",
    "* Running a Pig Job on Cloud Dataproc\n",
    "* Limiting to Training Days\n",
    "* The Decision Criteria\n",
    "* Evaluating the Bayesian Model"
   ]
  },
  {
   "cell_type": "markdown",
   "metadata": {},
   "source": [
    "## Running a Pig Job on Cloud Dataproc"
   ]
  },
  {
   "cell_type": "markdown",
   "metadata": {},
   "source": [
    "## Limiting to Training Days"
   ]
  },
  {
   "cell_type": "markdown",
   "metadata": {},
   "source": [
    "## The Decision Criteria"
   ]
  },
  {
   "cell_type": "markdown",
   "metadata": {},
   "source": [
    "## Evaluating the Bayesian Model"
   ]
  },
  {
   "cell_type": "markdown",
   "metadata": {},
   "source": [
    "# Summary"
   ]
  },
  {
   "cell_type": "markdown",
   "metadata": {},
   "source": [
    "# 참고자료\n",
    "* [1] Data Science on the Google Cloud Platform: Implementing End-to-End Real-Time Data Pipelines: From Ingest to Machine Learning - https://www.amazon.com/Data-Science-Google-Cloud-Platform/dp/1491974567\n",
    "* [2] Book github - https://github.com/GoogleCloudPlatform/data-science-on-gcp"
   ]
  }
 ],
 "metadata": {
  "kernelspec": {
   "display_name": "Python 3",
   "language": "python",
   "name": "python3"
  },
  "language_info": {
   "codemirror_mode": {
    "name": "ipython",
    "version": 3
   },
   "file_extension": ".py",
   "mimetype": "text/x-python",
   "name": "python",
   "nbconvert_exporter": "python",
   "pygments_lexer": "ipython3",
   "version": "3.6.5"
  }
 },
 "nbformat": 4,
 "nbformat_minor": 2
}

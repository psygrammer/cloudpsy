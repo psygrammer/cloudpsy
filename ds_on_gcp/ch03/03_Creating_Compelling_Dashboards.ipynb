{
 "cells": [
  {
   "cell_type": "markdown",
   "metadata": {},
   "source": [
    "# Chapter 3. Creating Compelling Dashboards"
   ]
  },
  {
   "cell_type": "markdown",
   "metadata": {},
   "source": [
    "* 싸이그래머 / CloudΨ - DS on GCP [1]\n",
    "* 김무성"
   ]
  },
  {
   "cell_type": "markdown",
   "metadata": {},
   "source": [
    "# 차례 \n",
    "* 준비단계    \n",
    "* Explain Your Model with Dashboards\n",
    "* Why Build a Dashboard First?\n",
    "* Accuracy, Honesty, and Good Design\n",
    "* Loading Data into Google Cloud SQL\n",
    "* Create a Google Cloud SQL Instance\n",
    "* Interacting with Google Cloud Platform\n",
    "* Controlling Access to MySQL\n",
    "* Create Tables\n",
    "* Populating Tables\n",
    "* Building Our First Model\n",
    "    - Contingency Table\n",
    "    - Threshold Optimization\n",
    "    - Machine Learning\n",
    "* Building a Dashboard\n",
    "* Getting Started with Data Studio\n",
    "    - Creating Charts\n",
    "    - Adding End-User Controls\n",
    "    - Showing Proportions with a Pie Chart\n",
    "    - Explaining a Contingency Table\n",
    "* Summary"
   ]
  },
  {
   "cell_type": "markdown",
   "metadata": {},
   "source": [
    "----------------------------"
   ]
  },
  {
   "cell_type": "markdown",
   "metadata": {},
   "source": [
    "#### 참고 \n",
    "* Getting started with Google Cloud Training Material - 2018 - https://www.slideshare.net/jkbaseer/getting-started-with-google-cloud-training-material-2018\n",
    "\n",
    "<img src=\"https://image.slidesharecdn.com/cloudonboardtrainingmanual2018sg17april2018-180417132701/95/getting-started-with-google-cloud-training-material-2018-18-1024.jpg?cb=1523971737\" width=800 />\n",
    "\n",
    "<img src=\"https://image.slidesharecdn.com/cloudonboardtrainingmanual2018sg17april2018-180417132701/95/getting-started-with-google-cloud-training-material-2018-29-1024.jpg?cb=1523971737\" width=800 />"
   ]
  },
  {
   "cell_type": "markdown",
   "metadata": {},
   "source": [
    "<img src=\"https://image.slidesharecdn.com/cloudonboardtrainingmanual2018sg17april2018-180417132701/95/getting-started-with-google-cloud-training-material-2018-31-638.jpg?cb=1523971737\" width=800 />"
   ]
  },
  {
   "cell_type": "markdown",
   "metadata": {},
   "source": [
    "---------------------"
   ]
  },
  {
   "cell_type": "markdown",
   "metadata": {},
   "source": [
    "# 준비단계"
   ]
  },
  {
   "cell_type": "markdown",
   "metadata": {},
   "source": [
    "Google Cloud Shell로 이동 \n",
    "* https://console.cloud.google.com/\n",
    "\n"
   ]
  },
  {
   "cell_type": "markdown",
   "metadata": {},
   "source": [
    "# 실습 1. Google Cloud SQL 인스턴스 생성 및 flights database 구성"
   ]
  },
  {
   "cell_type": "markdown",
   "metadata": {},
   "source": [
    "### Ingest data if necessary\n",
    "\n",
    "If you didn't go through Chapter 2, the simplest way to get the files you need is to copy it from my bucket:\n",
    "* Go to the 02_ingest folder of the repo\n",
    "* Run the program ./ingest_from_crsbucket.sh and specify your bucket name.\n",
    "\n",
    "\n",
    "### Loading data into Google Cloud SQL\n",
    "\n",
    "In CloudShell, change to the 03_sqlstudio directory in your clone of the source code repository.\n",
    "\n",
    "1. Run the script \n",
    "  ```./create_instance.sh``` <br><br>\n",
    "\n",
    "2. Go the GCP web console and change the root password of the Cloud SQL instance.<br><br>\n",
    "\n",
    "3. Create the table by running the script \n",
    "  ```\n",
    "  ./create_table.sh\n",
    "  ```\n",
    "  <br>\n",
    "  The script will prompt you for the root password of the Cloud SQL instance.<br><br>\n",
    "\n",
    "4. Populate the table by running the script \n",
    "  ```\n",
    "  ./populate_table.sh  <BUCKET-NAME>\n",
    "  ```\n",
    "  <br>\n",
    "  Note that this script requires you to pass in your bucket name as a command-line parameter.<br>\n",
    "  It will prompt you for the root password of your MySQL instance.<br><br>\n",
    "\n",
    "5. Compute the contingency table for a specific threshold by running the script \n",
    "  ```\n",
    "  ./contingency.sh.\n",
    "  ```"
   ]
  },
  {
   "cell_type": "markdown",
   "metadata": {},
   "source": [
    "-----------------------------------"
   ]
  },
  {
   "cell_type": "markdown",
   "metadata": {},
   "source": [
    "# Explain Your Model with Dashboards"
   ]
  },
  {
   "cell_type": "markdown",
   "metadata": {},
   "source": [
    "# Why Build a Dashboard First?"
   ]
  },
  {
   "cell_type": "markdown",
   "metadata": {},
   "source": [
    "# Accuracy, Honesty, and Good Design"
   ]
  },
  {
   "cell_type": "markdown",
   "metadata": {},
   "source": [
    "# Loading Data into Google Cloud SQL"
   ]
  },
  {
   "cell_type": "markdown",
   "metadata": {},
   "source": [
    "# Create a Google Cloud SQL Instance"
   ]
  },
  {
   "cell_type": "markdown",
   "metadata": {},
   "source": [
    "# Interacting with Google Cloud Platform"
   ]
  },
  {
   "cell_type": "markdown",
   "metadata": {},
   "source": [
    "# Controlling Access to MySQL"
   ]
  },
  {
   "cell_type": "markdown",
   "metadata": {},
   "source": [
    "# Create Tables"
   ]
  },
  {
   "cell_type": "markdown",
   "metadata": {},
   "source": [
    "# Populating Tables"
   ]
  },
  {
   "cell_type": "markdown",
   "metadata": {},
   "source": [
    "# Building Our First Model\n",
    "* Contingency Table\n",
    "* Threshold Optimization\n",
    "* Machine Learning"
   ]
  },
  {
   "cell_type": "markdown",
   "metadata": {},
   "source": [
    "## Contingency Table"
   ]
  },
  {
   "cell_type": "markdown",
   "metadata": {},
   "source": [
    "## Threshold Optimization"
   ]
  },
  {
   "cell_type": "markdown",
   "metadata": {},
   "source": [
    "## Machine Learning"
   ]
  },
  {
   "cell_type": "markdown",
   "metadata": {},
   "source": [
    "# Building a Dashboard"
   ]
  },
  {
   "cell_type": "markdown",
   "metadata": {},
   "source": [
    "# Getting Started with Data Studio\n",
    "* Creating Charts\n",
    "* Adding End-User Controls\n",
    "* Showing Proportions with a Pie Chart\n",
    "* Explaining a Contingency Table"
   ]
  },
  {
   "cell_type": "markdown",
   "metadata": {},
   "source": [
    "## Creating Charts"
   ]
  },
  {
   "cell_type": "markdown",
   "metadata": {},
   "source": [
    "## Adding End-User Controls"
   ]
  },
  {
   "cell_type": "markdown",
   "metadata": {},
   "source": [
    "## Showing Proportions with a Pie Chart"
   ]
  },
  {
   "cell_type": "markdown",
   "metadata": {},
   "source": [
    "## Explaining a Contingency Table"
   ]
  },
  {
   "cell_type": "markdown",
   "metadata": {},
   "source": [
    "# Summary"
   ]
  },
  {
   "cell_type": "markdown",
   "metadata": {},
   "source": [
    "# 참고자료\n",
    "* [1] Data Science on the Google Cloud Platform: Implementing End-to-End Real-Time Data Pipelines: From Ingest to Machine Learning - https://www.amazon.com/Data-Science-Google-Cloud-Platform/dp/1491974567\n",
    "* [2] Book github - https://github.com/GoogleCloudPlatform/data-science-on-gcp"
   ]
  }
 ],
 "metadata": {
  "kernelspec": {
   "display_name": "Python 3",
   "language": "python",
   "name": "python3"
  },
  "language_info": {
   "codemirror_mode": {
    "name": "ipython",
    "version": 3
   },
   "file_extension": ".py",
   "mimetype": "text/x-python",
   "name": "python",
   "nbconvert_exporter": "python",
   "pygments_lexer": "ipython3",
   "version": "3.6.5"
  }
 },
 "nbformat": 4,
 "nbformat_minor": 2
}

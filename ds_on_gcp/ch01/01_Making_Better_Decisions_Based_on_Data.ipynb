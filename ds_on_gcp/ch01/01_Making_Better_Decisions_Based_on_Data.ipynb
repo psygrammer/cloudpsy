{
 "cells": [
  {
   "cell_type": "markdown",
   "metadata": {},
   "source": [
    "# Chapter 1. Making Better Decisions Based on Data"
   ]
  },
  {
   "cell_type": "markdown",
   "metadata": {},
   "source": [
    "* 싸이그래머 / CloudΨ - DS on GCP [1]\n",
    "* 김무성"
   ]
  },
  {
   "cell_type": "markdown",
   "metadata": {},
   "source": [
    "# 차례 \n",
    "* 준비단계\n",
    "    * GCP란?\n",
    "    * 실습 1 - Google Cloud Shell 웹 브라우저 콘솔에서 소스 열기\n",
    "* Many Similar Decisions\n",
    "* The Role of Data Engineers\n",
    "* The Cloud Makes Data Engineers Possible\n",
    "* The Cloud Turbocharges Data Science\n",
    "* Case Studies Get at the Stubborn Facts\n",
    "* A Probabilistic Decision\n",
    "* Data and Tools\n",
    "* Getting Started with the Code\n",
    "    * 실습 2 - Cloud SDK 사용"
   ]
  },
  {
   "cell_type": "markdown",
   "metadata": {},
   "source": [
    "----------------------------"
   ]
  },
  {
   "cell_type": "markdown",
   "metadata": {},
   "source": [
    "# 준비단계\n",
    "* GCP 란?\n",
    "* 실습 1"
   ]
  },
  {
   "cell_type": "markdown",
   "metadata": {},
   "source": [
    "## GCP 란?\n",
    "* [4] GCP 신기술 동향 소개 - https://www.slideshare.net/rockplace/gcp-91396474\n",
    "* [5] Google Cloud Platform - https://www.slideshare.net/Pivotal/google-cloud-platform-75406511\n",
    "* [6] Getting started with Google Cloud Training Material - 2018 - https://www.slideshare.net/jkbaseer/getting-started-with-google-cloud-training-material-2018"
   ]
  },
  {
   "cell_type": "markdown",
   "metadata": {},
   "source": [
    "##  실습 1 - Google Cloud Shell 웹 브라우저 콘솔에서 소스 열기\n",
    "실습 코드[2] - https://github.com/GoogleCloudPlatform/data-science-on-gcp\n",
    "\n",
    "1. GCP 프로젝트 만들기\n",
    "    * https://cloud.google.com/gcp/\n",
    "\n",
    "2. Google Cloud Shell 열기 \n",
    " * Google Cloud Shell이란?\n",
    "     - [3] Google Cloud Shell 공식 문서 - https://cloud.google.com/shell/\n",
    "<img src=\"https://cloud.google.com/shell/docs/images/shellstart-update.gif\" width=600 /><br><br>\n",
    "\n",
    " * 여는 법\n",
    "     - 프로젝트 오른쪽 상단 아이콘 누름 <br><br>\n",
    "<img src=\"https://cloud.google.com/shell/docs/images/startcloudshell1.png\" width=600 /><br><br>\n",
    "     - 콘솔창이 브라우저에서 실행된다. <br><br>\n",
    "<img src=\"https://cloud.google.com/shell/docs/images/startcloudshell2.png\" width=600 /><br><br>\n",
    "\n",
    "3. Google Cloud Shell 콘솔에서 다음 명령어 \n",
    "```shell\n",
    "cloudshell_open --repo_url \"https://github.com/GoogleCloudPlatform/data-science-on-gcp.git\" --page \"editor\"\n",
    "```"
   ]
  },
  {
   "cell_type": "markdown",
   "metadata": {},
   "source": [
    "----------------------------"
   ]
  },
  {
   "cell_type": "markdown",
   "metadata": {},
   "source": [
    "# Many Similar Decisions"
   ]
  },
  {
   "cell_type": "markdown",
   "metadata": {},
   "source": [
    "----------------------------"
   ]
  },
  {
   "cell_type": "markdown",
   "metadata": {},
   "source": [
    "# The Role of Data Engineers"
   ]
  },
  {
   "cell_type": "markdown",
   "metadata": {},
   "source": [
    "<img src=\"figures/cap01.png\" width=600 />"
   ]
  },
  {
   "cell_type": "markdown",
   "metadata": {},
   "source": [
    "----------------------------"
   ]
  },
  {
   "cell_type": "markdown",
   "metadata": {},
   "source": [
    "# The Cloud Makes Data Engineers Possible"
   ]
  },
  {
   "cell_type": "markdown",
   "metadata": {},
   "source": [
    "#### 참고\n",
    "* [4] GCP 신기술 동향 소개 - https://www.slideshare.net/rockplace/gcp-91396474"
   ]
  },
  {
   "cell_type": "markdown",
   "metadata": {},
   "source": [
    "<img src=\"https://image.slidesharecdn.com/howgooglecloudplatformisdifferentjongdae-180321074440/95/gcp-8-1024.jpg\" width=700 />"
   ]
  },
  {
   "cell_type": "markdown",
   "metadata": {},
   "source": [
    "----------------------------"
   ]
  },
  {
   "cell_type": "markdown",
   "metadata": {},
   "source": [
    "# The Cloud Turbocharges Data Science"
   ]
  },
  {
   "cell_type": "markdown",
   "metadata": {},
   "source": [
    "#### 참고\n",
    "* [4] GCP 신기술 동향 소개 - https://www.slideshare.net/rockplace/gcp-91396474"
   ]
  },
  {
   "cell_type": "markdown",
   "metadata": {},
   "source": [
    "<img src=\"https://image.slidesharecdn.com/howgooglecloudplatformisdifferentjongdae-180321074440/95/gcp-21-1024.jpg?cb=1522039304\" width=600 />"
   ]
  },
  {
   "cell_type": "markdown",
   "metadata": {},
   "source": [
    "<img src=\"https://image.slidesharecdn.com/howgooglecloudplatformisdifferentjongdae-180321074440/95/gcp-22-1024.jpg?cb=1522039304\" width=600 />"
   ]
  },
  {
   "cell_type": "markdown",
   "metadata": {},
   "source": [
    "<img src=\"https://image.slidesharecdn.com/howgooglecloudplatformisdifferentjongdae-180321074440/95/gcp-35-1024.jpg?cb=1522039304\" width=600 />"
   ]
  },
  {
   "cell_type": "markdown",
   "metadata": {},
   "source": [
    "<img src=\"https://image.slidesharecdn.com/howgooglecloudplatformisdifferentjongdae-180321074440/95/gcp-36-1024.jpg?cb=1522039304\" width=600 />\n"
   ]
  },
  {
   "cell_type": "markdown",
   "metadata": {},
   "source": [
    "<img src=\"https://image.slidesharecdn.com/howgooglecloudplatformisdifferentjongdae-180321074440/95/gcp-37-1024.jpg?cb=1522039304\" width=600 />"
   ]
  },
  {
   "cell_type": "markdown",
   "metadata": {},
   "source": [
    "----------------------------"
   ]
  },
  {
   "cell_type": "markdown",
   "metadata": {},
   "source": [
    "# Case Studies Get at the Stubborn Facts"
   ]
  },
  {
   "cell_type": "markdown",
   "metadata": {},
   "source": [
    "----------------------------"
   ]
  },
  {
   "cell_type": "markdown",
   "metadata": {},
   "source": [
    "# A Probabilistic Decision"
   ]
  },
  {
   "cell_type": "markdown",
   "metadata": {},
   "source": [
    "<img src=\"figures/cap02.png\" width=600 />\n",
    "<img src=\"figures/cap03.png\" width=600 />\n",
    "<img src=\"figures/cap04.png\" width=600 />\n",
    "<img src=\"figures/cap05.png\" width=600 />\n",
    "<img src=\"figures/cap06.png\" width=600 />"
   ]
  },
  {
   "cell_type": "markdown",
   "metadata": {},
   "source": [
    "----------------------------"
   ]
  },
  {
   "cell_type": "markdown",
   "metadata": {},
   "source": [
    "# Data and Tools"
   ]
  },
  {
   "cell_type": "markdown",
   "metadata": {},
   "source": [
    "#### 참고\n",
    "* [6] Getting started with Google Cloud Training Material - 2018 - https://www.slideshare.net/jkbaseer/getting-started-with-google-cloud-training-material-2018"
   ]
  },
  {
   "cell_type": "markdown",
   "metadata": {},
   "source": [
    "<img src=\"https://image.slidesharecdn.com/cloudonboardtrainingmanual2018sg17april2018-180417132701/95/getting-started-with-google-cloud-training-material-2018-8-1024.jpg?cb=1523971737\" width=800 />"
   ]
  },
  {
   "cell_type": "markdown",
   "metadata": {},
   "source": [
    "### Compute & Storage Fundamentals \n",
    "* Google Compute Engine\n",
    "* Google Cloud Storage\n",
    "* Google Cloud Shell"
   ]
  },
  {
   "cell_type": "markdown",
   "metadata": {},
   "source": [
    "<img src=\"https://image.slidesharecdn.com/cloudonboardtrainingmanual2018sg17april2018-180417132701/95/getting-started-with-google-cloud-training-material-2018-14-1024.jpg?cb=1523971737\" width=800 />"
   ]
  },
  {
   "cell_type": "markdown",
   "metadata": {},
   "source": [
    "<img src=\"https://image.slidesharecdn.com/cloudonboardtrainingmanual2018sg17april2018-180417132701/95/getting-started-with-google-cloud-training-material-2018-15-1024.jpg?cb=1523971737\" width=800 />"
   ]
  },
  {
   "cell_type": "markdown",
   "metadata": {},
   "source": [
    "<img src=\"https://image.slidesharecdn.com/cloudonboardtrainingmanual2018sg17april2018-180417132701/95/getting-started-with-google-cloud-training-material-2018-17-1024.jpg?cb=1523971737\" width=800 />"
   ]
  },
  {
   "cell_type": "markdown",
   "metadata": {},
   "source": [
    "<img src=\"https://image.slidesharecdn.com/cloudonboardtrainingmanual2018sg17april2018-180417132701/95/getting-started-with-google-cloud-training-material-2018-18-1024.jpg?cb=1523971737\" width=800 />"
   ]
  },
  {
   "cell_type": "markdown",
   "metadata": {},
   "source": [
    "<img src=\"https://image.slidesharecdn.com/cloudonboardtrainingmanual2018sg17april2018-180417132701/95/getting-started-with-google-cloud-training-material-2018-20-1024.jpg?cb=1523971737\" width=800 />"
   ]
  },
  {
   "cell_type": "markdown",
   "metadata": {},
   "source": [
    "### Data Analysis on the Cloud\n",
    "* Google Cloud SQL\n",
    "* Google Dataproc"
   ]
  },
  {
   "cell_type": "markdown",
   "metadata": {},
   "source": [
    "<img src=\"https://image.slidesharecdn.com/cloudonboardtrainingmanual2018sg17april2018-180417132701/95/getting-started-with-google-cloud-training-material-2018-24-1024.jpg?cb=1523971737\" width=800 />"
   ]
  },
  {
   "cell_type": "markdown",
   "metadata": {},
   "source": [
    "<img src=\"https://image.slidesharecdn.com/cloudonboardtrainingmanual2018sg17april2018-180417132701/95/getting-started-with-google-cloud-training-material-2018-25-1024.jpg?cb=1523971737\" width=800 />"
   ]
  },
  {
   "cell_type": "markdown",
   "metadata": {},
   "source": [
    "<img src=\"https://image.slidesharecdn.com/cloudonboardtrainingmanual2018sg17april2018-180417132701/95/getting-started-with-google-cloud-training-material-2018-26-1024.jpg?cb=1523971737\" width=800 />"
   ]
  },
  {
   "cell_type": "markdown",
   "metadata": {},
   "source": [
    "<img src=\"https://image.slidesharecdn.com/cloudonboardtrainingmanual2018sg17april2018-180417132701/95/getting-started-with-google-cloud-training-material-2018-29-1024.jpg?cb=1523971737\" width=800 />"
   ]
  },
  {
   "cell_type": "markdown",
   "metadata": {},
   "source": [
    "<img src=\"https://image.slidesharecdn.com/cloudonboardtrainingmanual2018sg17april2018-180417132701/95/getting-started-with-google-cloud-training-material-2018-30-1024.jpg?cb=1523971737\" width=800 />"
   ]
  },
  {
   "cell_type": "markdown",
   "metadata": {},
   "source": [
    "<img src=\"https://image.slidesharecdn.com/cloudonboardtrainingmanual2018sg17april2018-180417132701/95/getting-started-with-google-cloud-training-material-2018-31-638.jpg?cb=1523971737\" width=800 />"
   ]
  },
  {
   "cell_type": "markdown",
   "metadata": {},
   "source": [
    "<img src=\"https://image.slidesharecdn.com/cloudonboardtrainingmanual2018sg17april2018-180417132701/95/getting-started-with-google-cloud-training-material-2018-32-638.jpg?cb=1523971737\" width=600 />"
   ]
  },
  {
   "cell_type": "markdown",
   "metadata": {},
   "source": [
    "<img src=\"https://image.slidesharecdn.com/cloudonboardtrainingmanual2018sg17april2018-180417132701/95/getting-started-with-google-cloud-training-material-2018-33-638.jpg?cb=1523971737\" width=800 />"
   ]
  },
  {
   "cell_type": "markdown",
   "metadata": {},
   "source": [
    "<img src=\"https://image.slidesharecdn.com/cloudonboardtrainingmanual2018sg17april2018-180417132701/95/getting-started-with-google-cloud-training-material-2018-34-638.jpg?cb=1523971737\" width=800 />"
   ]
  },
  {
   "cell_type": "markdown",
   "metadata": {},
   "source": [
    "### Scaling Data Analysis\n",
    "* Storages :\n",
    "    * Google Cloud Datastore\n",
    "    * Google Bigtable\n",
    "    * Google Cloud Storage\n",
    "    * Google Cloud SQL\n",
    "    * Google Cloud Spanner\n",
    "    * Google BigQuery\n",
    "* Google Datalab"
   ]
  },
  {
   "cell_type": "markdown",
   "metadata": {},
   "source": [
    "<img src=\"https://image.slidesharecdn.com/cloudonboardtrainingmanual2018sg17april2018-180417132701/95/getting-started-with-google-cloud-training-material-2018-37-638.jpg?cb=1523971737\" width=800 />"
   ]
  },
  {
   "cell_type": "markdown",
   "metadata": {},
   "source": [
    "<img src=\"https://image.slidesharecdn.com/cloudonboardtrainingmanual2018sg17april2018-180417132701/95/getting-started-with-google-cloud-training-material-2018-38-1024.jpg?cb=1523971737\" width=800 />"
   ]
  },
  {
   "cell_type": "markdown",
   "metadata": {},
   "source": [
    "<img src=\"https://image.slidesharecdn.com/cloudonboardtrainingmanual2018sg17april2018-180417132701/95/getting-started-with-google-cloud-training-material-2018-39-1024.jpg?cb=1523971737\" width=800 />"
   ]
  },
  {
   "cell_type": "markdown",
   "metadata": {},
   "source": [
    "<img src=\"https://image.slidesharecdn.com/cloudonboardtrainingmanual2018sg17april2018-180417132701/95/getting-started-with-google-cloud-training-material-2018-40-1024.jpg?cb=1523971737\" width=800 />"
   ]
  },
  {
   "cell_type": "markdown",
   "metadata": {},
   "source": [
    "<img src=\"https://image.slidesharecdn.com/cloudonboardtrainingmanual2018sg17april2018-180417132701/95/getting-started-with-google-cloud-training-material-2018-43-1024.jpg?cb=1523971737\" width=800 />"
   ]
  },
  {
   "cell_type": "markdown",
   "metadata": {},
   "source": [
    "<img src=\"https://image.slidesharecdn.com/cloudonboardtrainingmanual2018sg17april2018-180417132701/95/getting-started-with-google-cloud-training-material-2018-44-1024.jpg?cb=1523971737\" width=800 />"
   ]
  },
  {
   "cell_type": "markdown",
   "metadata": {},
   "source": [
    "<img src=\"https://image.slidesharecdn.com/cloudonboardtrainingmanual2018sg17april2018-180417132701/95/getting-started-with-google-cloud-training-material-2018-47-1024.jpg?cb=1523971737\" width=800 />"
   ]
  },
  {
   "cell_type": "markdown",
   "metadata": {},
   "source": [
    "<img src=\"https://image.slidesharecdn.com/cloudonboardtrainingmanual2018sg17april2018-180417132701/95/getting-started-with-google-cloud-training-material-2018-48-1024.jpg?cb=1523971737\" width=800 />"
   ]
  },
  {
   "cell_type": "markdown",
   "metadata": {},
   "source": [
    "### Machine Learning\n",
    "* TensorFlow\n",
    "* ML APIs\n",
    "* Google Cloud AutoML"
   ]
  },
  {
   "cell_type": "markdown",
   "metadata": {},
   "source": [
    "<img src=\"https://image.slidesharecdn.com/cloudonboardtrainingmanual2018sg17april2018-180417132701/95/getting-started-with-google-cloud-training-material-2018-52-1024.jpg?cb=1523971737\" width=800 />"
   ]
  },
  {
   "cell_type": "markdown",
   "metadata": {},
   "source": [
    "<img src=\"https://image.slidesharecdn.com/cloudonboardtrainingmanual2018sg17april2018-180417132701/95/getting-started-with-google-cloud-training-material-2018-53-1024.jpg?cb=1523971737\" width=800 />"
   ]
  },
  {
   "cell_type": "markdown",
   "metadata": {},
   "source": [
    "<img src=\"https://image.slidesharecdn.com/cloudonboardtrainingmanual2018sg17april2018-180417132701/95/getting-started-with-google-cloud-training-material-2018-54-1024.jpg?cb=1523971737\" width=800 />"
   ]
  },
  {
   "cell_type": "markdown",
   "metadata": {},
   "source": [
    "<img src=\"https://image.slidesharecdn.com/cloudonboardtrainingmanual2018sg17april2018-180417132701/95/getting-started-with-google-cloud-training-material-2018-59-1024.jpg?cb=1523971737\" width=800 />"
   ]
  },
  {
   "cell_type": "markdown",
   "metadata": {},
   "source": [
    "<img src=\"https://image.slidesharecdn.com/cloudonboardtrainingmanual2018sg17april2018-180417132701/95/getting-started-with-google-cloud-training-material-2018-60-1024.jpg?cb=1523971737\" width=800 />"
   ]
  },
  {
   "cell_type": "markdown",
   "metadata": {},
   "source": [
    "<img src=\"https://image.slidesharecdn.com/cloudonboardtrainingmanual2018sg17april2018-180417132701/95/getting-started-with-google-cloud-training-material-2018-61-1024.jpg?cb=1523971737\" width=800 />"
   ]
  },
  {
   "cell_type": "markdown",
   "metadata": {},
   "source": [
    "<img src=\"https://image.slidesharecdn.com/cloudonboardtrainingmanual2018sg17april2018-180417132701/95/getting-started-with-google-cloud-training-material-2018-69-1024.jpg?cb=1523971737\" width=800 />"
   ]
  },
  {
   "cell_type": "markdown",
   "metadata": {},
   "source": [
    "### Data Processing Architecture\n",
    "* Google Cloud Pub/Sub\n",
    "* Google Cloud DataFlow"
   ]
  },
  {
   "cell_type": "markdown",
   "metadata": {},
   "source": [
    "<img src=\"https://image.slidesharecdn.com/cloudonboardtrainingmanual2018sg17april2018-180417132701/95/getting-started-with-google-cloud-training-material-2018-72-1024.jpg?cb=1523971737\" width=800 />"
   ]
  },
  {
   "cell_type": "markdown",
   "metadata": {},
   "source": [
    "<img src=\"https://image.slidesharecdn.com/cloudonboardtrainingmanual2018sg17april2018-180417132701/95/getting-started-with-google-cloud-training-material-2018-73-1024.jpg?cb=1523971737\" width=800 />"
   ]
  },
  {
   "cell_type": "markdown",
   "metadata": {},
   "source": [
    "<img src=\"https://image.slidesharecdn.com/cloudonboardtrainingmanual2018sg17april2018-180417132701/95/getting-started-with-google-cloud-training-material-2018-74-1024.jpg?cb=1523971737\" width=800 />"
   ]
  },
  {
   "cell_type": "markdown",
   "metadata": {},
   "source": [
    "<img src=\"https://image.slidesharecdn.com/cloudonboardtrainingmanual2018sg17april2018-180417132701/95/getting-started-with-google-cloud-training-material-2018-75-1024.jpg?cb=1523971737\" width=800 />"
   ]
  },
  {
   "cell_type": "markdown",
   "metadata": {},
   "source": [
    "<img src=\"https://image.slidesharecdn.com/cloudonboardtrainingmanual2018sg17april2018-180417132701/95/getting-started-with-google-cloud-training-material-2018-76-1024.jpg?cb=1523971737\" width=800 />"
   ]
  },
  {
   "cell_type": "markdown",
   "metadata": {},
   "source": [
    "<img src=\"https://image.slidesharecdn.com/cloudonboardtrainingmanual2018sg17april2018-180417132701/95/getting-started-with-google-cloud-training-material-2018-77-1024.jpg?cb=1523971737\" width=800 />"
   ]
  },
  {
   "cell_type": "markdown",
   "metadata": {},
   "source": [
    "<img src=\"https://image.slidesharecdn.com/cloudonboardtrainingmanual2018sg17april2018-180417132701/95/getting-started-with-google-cloud-training-material-2018-78-1024.jpg?cb=1523971737\" width=800 />"
   ]
  },
  {
   "cell_type": "markdown",
   "metadata": {},
   "source": [
    "<img src=\"https://image.slidesharecdn.com/cloudonboardtrainingmanual2018sg17april2018-180417132701/95/getting-started-with-google-cloud-training-material-2018-79-1024.jpg?cb=1523971737\" width=800 />"
   ]
  },
  {
   "cell_type": "markdown",
   "metadata": {},
   "source": [
    "<img src=\"https://image.slidesharecdn.com/cloudonboardtrainingmanual2018sg17april2018-180417132701/95/getting-started-with-google-cloud-training-material-2018-80-1024.jpg?cb=1523971737\" width=800 />"
   ]
  },
  {
   "cell_type": "markdown",
   "metadata": {},
   "source": [
    "<img src=\"https://image.slidesharecdn.com/cloudonboardtrainingmanual2018sg17april2018-180417132701/95/getting-started-with-google-cloud-training-material-2018-81-1024.jpg?cb=1523971737\" width=800 />"
   ]
  },
  {
   "cell_type": "markdown",
   "metadata": {},
   "source": [
    "<img src=\"https://image.slidesharecdn.com/cloudonboardtrainingmanual2018sg17april2018-180417132701/95/getting-started-with-google-cloud-training-material-2018-83-1024.jpg?cb=1523971737\" width=800 />"
   ]
  },
  {
   "cell_type": "markdown",
   "metadata": {},
   "source": [
    "### Book Contents\n",
    "\n",
    "1. Making Better Decisions Based on Data\n",
    "    * Google Cloud Shell\n",
    "2. Ingesting Data into the Cloud\n",
    "    * Google Cloud Storage\n",
    "    * Flask Web App\n",
    "    * Google App Engine\n",
    "3. Creating Compelling Dashboards\n",
    "    * Google Cloud SQL\n",
    "    * MySQL\n",
    "    * Google Data Studio\n",
    "4. Streaming Data : Publication and Ingest\n",
    "    * Apache Beam\n",
    "    * Google Cloud Dataflow\n",
    "    * Google Cloud Pub/Sub\n",
    "    * Google Cloud BigQuery\n",
    "5. Interactive Data Exploration\n",
    "    * Google BigQuery\n",
    "    * Google Cloud Datalab\n",
    "6. Bayes Classifer on Cloud Dataproc\n",
    "    * MapReduce and Hadoop Ecosystem\n",
    "    * Google Cloud Dataproc\n",
    "    * Spark SQL\n",
    "    * Pig\n",
    "7. Machine Learning : Logistic Regression on Spark\n",
    "    * Spark ML\n",
    "8. Time-Windowed Aggregate Features\n",
    "    * Apache Beam\n",
    "    * BigQueryIO\n",
    "9. Machine Learning Classifer Using TensorFlow\n",
    "    * TensorFlow\n",
    "10. Real-Time Machine Learning\n",
    "    * Google Cloud Bigtable"
   ]
  },
  {
   "cell_type": "markdown",
   "metadata": {},
   "source": [
    "----------------------------"
   ]
  },
  {
   "cell_type": "markdown",
   "metadata": {},
   "source": [
    "# Getting Started with the Code"
   ]
  },
  {
   "cell_type": "markdown",
   "metadata": {},
   "source": [
    "## 실습 2 - Cloud SDK 사용"
   ]
  },
  {
   "cell_type": "markdown",
   "metadata": {},
   "source": [
    "실습 코드[2] - https://github.com/GoogleCloudPlatform/data-science-on-gcp <br>\n",
    "GCP 프로젝트는 만들었다는 전제하에(실습 1)\n",
    "\n",
    "1. gcloud 컴퓨터에 다운받기\n",
    "    * https://cloud.google.com/sdk/downloads\n",
    "2. gcloud 설치가 끝나면, 로컬 컴퓨터에 실습코드를 클로닝한다. (이후 실습을 위해서는 이 코드들의 project ID와 bucket-name을 자신의 것으로 변경해야 한다)\n",
    "```shell\n",
    "git clone https://github.com/GoogleCloudPlatform/data-science-on-gcp\n",
    "```"
   ]
  },
  {
   "cell_type": "markdown",
   "metadata": {},
   "source": [
    "-----------------------"
   ]
  },
  {
   "cell_type": "markdown",
   "metadata": {},
   "source": [
    "# 참고자료\n",
    "* [1] Data Science on the Google Cloud Platform: Implementing End-to-End Real-Time Data Pipelines: From Ingest to Machine Learning - https://www.amazon.com/Data-Science-Google-Cloud-Platform/dp/1491974567\n",
    "* [2] Book github - https://github.com/GoogleCloudPlatform/data-science-on-gcp\n",
    "* [3] Google Cloud Shell 공식 문서 - https://cloud.google.com/shell/\n",
    "* [4] GCP 신기술 동향 소개 - https://www.slideshare.net/rockplace/gcp-91396474\n",
    "* [5] Google Cloud Platform - https://www.slideshare.net/Pivotal/google-cloud-platform-75406511\n",
    "* [6] Getting started with Google Cloud Training Material - 2018 - https://www.slideshare.net/jkbaseer/getting-started-with-google-cloud-training-material-2018"
   ]
  }
 ],
 "metadata": {
  "kernelspec": {
   "display_name": "Python 3",
   "language": "python",
   "name": "python3"
  },
  "language_info": {
   "codemirror_mode": {
    "name": "ipython",
    "version": 3
   },
   "file_extension": ".py",
   "mimetype": "text/x-python",
   "name": "python",
   "nbconvert_exporter": "python",
   "pygments_lexer": "ipython3",
   "version": "3.6.5"
  }
 },
 "nbformat": 4,
 "nbformat_minor": 2
}
